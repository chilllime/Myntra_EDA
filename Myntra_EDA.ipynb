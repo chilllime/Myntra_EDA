{
 "cells": [
  {
   "cell_type": "code",
   "execution_count": 49,
   "id": "91b781f8-d1d6-44dd-9184-81eb0869b397",
   "metadata": {},
   "outputs": [],
   "source": [
    "import pandas as pd \n",
    "import numpy as np \n",
    "import seaborn as sns \n",
    "import matplotlib.pyplot as plt "
   ]
  },
  {
   "cell_type": "code",
   "execution_count": 258,
   "id": "6678b506-7544-46e4-b7c2-1246eb18cf4e",
   "metadata": {},
   "outputs": [
    {
     "data": {
      "text/html": [
       "<div>\n",
       "<style scoped>\n",
       "    .dataframe tbody tr th:only-of-type {\n",
       "        vertical-align: middle;\n",
       "    }\n",
       "\n",
       "    .dataframe tbody tr th {\n",
       "        vertical-align: top;\n",
       "    }\n",
       "\n",
       "    .dataframe thead th {\n",
       "        text-align: right;\n",
       "    }\n",
       "</style>\n",
       "<table border=\"1\" class=\"dataframe\">\n",
       "  <thead>\n",
       "    <tr style=\"text-align: right;\">\n",
       "      <th></th>\n",
       "      <th>id</th>\n",
       "      <th>name</th>\n",
       "      <th>img</th>\n",
       "      <th>asin</th>\n",
       "      <th>price</th>\n",
       "      <th>mrp</th>\n",
       "      <th>rating</th>\n",
       "      <th>ratingTotal</th>\n",
       "      <th>discount</th>\n",
       "      <th>seller</th>\n",
       "      <th>purl</th>\n",
       "    </tr>\n",
       "  </thead>\n",
       "  <tbody>\n",
       "    <tr>\n",
       "      <th>0</th>\n",
       "      <td>1</td>\n",
       "      <td>Men Solid Oversized Cotton</td>\n",
       "      <td>https://assets.myntassets.com/f_webp,dpr_1.0,q...</td>\n",
       "      <td>-</td>\n",
       "      <td>532.0</td>\n",
       "      <td>1299.0</td>\n",
       "      <td>4.1</td>\n",
       "      <td>5300</td>\n",
       "      <td>59</td>\n",
       "      <td>Difference of Opinion</td>\n",
       "      <td>https://www.myntra.com/tshirts/difference-of-o...</td>\n",
       "    </tr>\n",
       "    <tr>\n",
       "      <th>1</th>\n",
       "      <td>2</td>\n",
       "      <td>Men Cotton Pure Cotton T-shirt</td>\n",
       "      <td>https://assets.myntassets.com/f_webp,dpr_1.0,q...</td>\n",
       "      <td>-</td>\n",
       "      <td>274.0</td>\n",
       "      <td>499.0</td>\n",
       "      <td>4.2</td>\n",
       "      <td>25400</td>\n",
       "      <td>45</td>\n",
       "      <td>Roadster</td>\n",
       "      <td>https://www.myntra.com/tshirts/roadster/roadst...</td>\n",
       "    </tr>\n",
       "    <tr>\n",
       "      <th>2</th>\n",
       "      <td>3</td>\n",
       "      <td>Women Pure Cotton T-shirt</td>\n",
       "      <td>https://assets.myntassets.com/f_webp,dpr_1.0,q...</td>\n",
       "      <td>-</td>\n",
       "      <td>551.0</td>\n",
       "      <td>1199.0</td>\n",
       "      <td>4.5</td>\n",
       "      <td>3400</td>\n",
       "      <td>54</td>\n",
       "      <td>DILLINGER</td>\n",
       "      <td>https://www.myntra.com/tshirts/dillinger/dilli...</td>\n",
       "    </tr>\n",
       "    <tr>\n",
       "      <th>3</th>\n",
       "      <td>4</td>\n",
       "      <td>Typography Print T-shirt</td>\n",
       "      <td>https://assets.myntassets.com/f_webp,dpr_1.0,q...</td>\n",
       "      <td>-</td>\n",
       "      <td>296.0</td>\n",
       "      <td>1099.0</td>\n",
       "      <td>4.0</td>\n",
       "      <td>18400</td>\n",
       "      <td>73</td>\n",
       "      <td>Huetrap</td>\n",
       "      <td>https://www.myntra.com/tshirts/huetrap/huetrap...</td>\n",
       "    </tr>\n",
       "    <tr>\n",
       "      <th>4</th>\n",
       "      <td>5</td>\n",
       "      <td>Printed Round Neck Pure Cotton T-shirt</td>\n",
       "      <td>https://assets.myntassets.com/f_webp,dpr_1.0,q...</td>\n",
       "      <td>-</td>\n",
       "      <td>494.0</td>\n",
       "      <td>899.0</td>\n",
       "      <td>4.2</td>\n",
       "      <td>3800</td>\n",
       "      <td>45</td>\n",
       "      <td>Roadster</td>\n",
       "      <td>https://www.myntra.com/tshirts/roadster/roadst...</td>\n",
       "    </tr>\n",
       "  </tbody>\n",
       "</table>\n",
       "</div>"
      ],
      "text/plain": [
       "   id                                    name  \\\n",
       "0   1              Men Solid Oversized Cotton   \n",
       "1   2          Men Cotton Pure Cotton T-shirt   \n",
       "2   3               Women Pure Cotton T-shirt   \n",
       "3   4                Typography Print T-shirt   \n",
       "4   5  Printed Round Neck Pure Cotton T-shirt   \n",
       "\n",
       "                                                 img asin  price     mrp  \\\n",
       "0  https://assets.myntassets.com/f_webp,dpr_1.0,q...    -  532.0  1299.0   \n",
       "1  https://assets.myntassets.com/f_webp,dpr_1.0,q...    -  274.0   499.0   \n",
       "2  https://assets.myntassets.com/f_webp,dpr_1.0,q...    -  551.0  1199.0   \n",
       "3  https://assets.myntassets.com/f_webp,dpr_1.0,q...    -  296.0  1099.0   \n",
       "4  https://assets.myntassets.com/f_webp,dpr_1.0,q...    -  494.0   899.0   \n",
       "\n",
       "   rating  ratingTotal  discount                 seller  \\\n",
       "0     4.1         5300        59  Difference of Opinion   \n",
       "1     4.2        25400        45               Roadster   \n",
       "2     4.5         3400        54              DILLINGER   \n",
       "3     4.0        18400        73                Huetrap   \n",
       "4     4.2         3800        45               Roadster   \n",
       "\n",
       "                                                purl  \n",
       "0  https://www.myntra.com/tshirts/difference-of-o...  \n",
       "1  https://www.myntra.com/tshirts/roadster/roadst...  \n",
       "2  https://www.myntra.com/tshirts/dillinger/dilli...  \n",
       "3  https://www.myntra.com/tshirts/huetrap/huetrap...  \n",
       "4  https://www.myntra.com/tshirts/roadster/roadst...  "
      ]
     },
     "execution_count": 258,
     "metadata": {},
     "output_type": "execute_result"
    }
   ],
   "source": [
    "df1=pd.read_csv('myntra202305041052.csv')\n",
    "df1.head()"
   ]
  },
  {
   "cell_type": "code",
   "execution_count": 52,
   "id": "a56179e1-e7d9-4d7d-9d9d-3637187a81b7",
   "metadata": {},
   "outputs": [
    {
     "name": "stdout",
     "output_type": "stream",
     "text": [
      "<class 'pandas.core.frame.DataFrame'>\n",
      "RangeIndex: 1060213 entries, 0 to 1060212\n",
      "Data columns (total 11 columns):\n",
      " #   Column       Non-Null Count    Dtype  \n",
      "---  ------       --------------    -----  \n",
      " 0   id           1060213 non-null  int64  \n",
      " 1   name         1060213 non-null  object \n",
      " 2   img          1060213 non-null  object \n",
      " 3   asin         1060213 non-null  object \n",
      " 4   price        1060213 non-null  float64\n",
      " 5   mrp          1060213 non-null  float64\n",
      " 6   rating       1060213 non-null  float64\n",
      " 7   ratingTotal  1060213 non-null  int64  \n",
      " 8   discount     1060213 non-null  int64  \n",
      " 9   seller       1060213 non-null  object \n",
      " 10  purl         1060213 non-null  object \n",
      "dtypes: float64(3), int64(3), object(5)\n",
      "memory usage: 89.0+ MB\n"
     ]
    }
   ],
   "source": [
    "df1.info()"
   ]
  },
  {
   "cell_type": "code",
   "execution_count": 53,
   "id": "0d24d568-e167-4f9e-98b2-6a4de35a2947",
   "metadata": {},
   "outputs": [
    {
     "data": {
      "text/html": [
       "<div>\n",
       "<style scoped>\n",
       "    .dataframe tbody tr th:only-of-type {\n",
       "        vertical-align: middle;\n",
       "    }\n",
       "\n",
       "    .dataframe tbody tr th {\n",
       "        vertical-align: top;\n",
       "    }\n",
       "\n",
       "    .dataframe thead th {\n",
       "        text-align: right;\n",
       "    }\n",
       "</style>\n",
       "<table border=\"1\" class=\"dataframe\">\n",
       "  <thead>\n",
       "    <tr style=\"text-align: right;\">\n",
       "      <th></th>\n",
       "      <th>id</th>\n",
       "      <th>price</th>\n",
       "      <th>mrp</th>\n",
       "      <th>rating</th>\n",
       "      <th>ratingTotal</th>\n",
       "      <th>discount</th>\n",
       "    </tr>\n",
       "  </thead>\n",
       "  <tbody>\n",
       "    <tr>\n",
       "      <th>count</th>\n",
       "      <td>1.060213e+06</td>\n",
       "      <td>1.060213e+06</td>\n",
       "      <td>1.060213e+06</td>\n",
       "      <td>1.060213e+06</td>\n",
       "      <td>1.060213e+06</td>\n",
       "      <td>1.060213e+06</td>\n",
       "    </tr>\n",
       "    <tr>\n",
       "      <th>mean</th>\n",
       "      <td>5.301070e+05</td>\n",
       "      <td>1.536235e+03</td>\n",
       "      <td>2.668379e+03</td>\n",
       "      <td>1.060150e+00</td>\n",
       "      <td>4.189618e+01</td>\n",
       "      <td>1.496420e+02</td>\n",
       "    </tr>\n",
       "    <tr>\n",
       "      <th>std</th>\n",
       "      <td>3.060573e+05</td>\n",
       "      <td>3.051140e+03</td>\n",
       "      <td>3.877900e+03</td>\n",
       "      <td>1.829632e+00</td>\n",
       "      <td>7.476645e+02</td>\n",
       "      <td>5.648781e+02</td>\n",
       "    </tr>\n",
       "    <tr>\n",
       "      <th>min</th>\n",
       "      <td>1.000000e+00</td>\n",
       "      <td>2.500000e+01</td>\n",
       "      <td>2.500000e+01</td>\n",
       "      <td>0.000000e+00</td>\n",
       "      <td>0.000000e+00</td>\n",
       "      <td>0.000000e+00</td>\n",
       "    </tr>\n",
       "    <tr>\n",
       "      <th>25%</th>\n",
       "      <td>2.650540e+05</td>\n",
       "      <td>4.990000e+02</td>\n",
       "      <td>9.990000e+02</td>\n",
       "      <td>0.000000e+00</td>\n",
       "      <td>0.000000e+00</td>\n",
       "      <td>1.500000e+01</td>\n",
       "    </tr>\n",
       "    <tr>\n",
       "      <th>50%</th>\n",
       "      <td>5.301070e+05</td>\n",
       "      <td>8.110000e+02</td>\n",
       "      <td>1.780000e+03</td>\n",
       "      <td>0.000000e+00</td>\n",
       "      <td>0.000000e+00</td>\n",
       "      <td>5.000000e+01</td>\n",
       "    </tr>\n",
       "    <tr>\n",
       "      <th>75%</th>\n",
       "      <td>7.951600e+05</td>\n",
       "      <td>1.497000e+03</td>\n",
       "      <td>2.999000e+03</td>\n",
       "      <td>2.800000e+00</td>\n",
       "      <td>3.000000e+00</td>\n",
       "      <td>6.800000e+01</td>\n",
       "    </tr>\n",
       "    <tr>\n",
       "      <th>max</th>\n",
       "      <td>1.060213e+06</td>\n",
       "      <td>2.575000e+05</td>\n",
       "      <td>2.575000e+05</td>\n",
       "      <td>5.000000e+00</td>\n",
       "      <td>7.640000e+04</td>\n",
       "      <td>1.999600e+04</td>\n",
       "    </tr>\n",
       "  </tbody>\n",
       "</table>\n",
       "</div>"
      ],
      "text/plain": [
       "                 id         price           mrp        rating   ratingTotal  \\\n",
       "count  1.060213e+06  1.060213e+06  1.060213e+06  1.060213e+06  1.060213e+06   \n",
       "mean   5.301070e+05  1.536235e+03  2.668379e+03  1.060150e+00  4.189618e+01   \n",
       "std    3.060573e+05  3.051140e+03  3.877900e+03  1.829632e+00  7.476645e+02   \n",
       "min    1.000000e+00  2.500000e+01  2.500000e+01  0.000000e+00  0.000000e+00   \n",
       "25%    2.650540e+05  4.990000e+02  9.990000e+02  0.000000e+00  0.000000e+00   \n",
       "50%    5.301070e+05  8.110000e+02  1.780000e+03  0.000000e+00  0.000000e+00   \n",
       "75%    7.951600e+05  1.497000e+03  2.999000e+03  2.800000e+00  3.000000e+00   \n",
       "max    1.060213e+06  2.575000e+05  2.575000e+05  5.000000e+00  7.640000e+04   \n",
       "\n",
       "           discount  \n",
       "count  1.060213e+06  \n",
       "mean   1.496420e+02  \n",
       "std    5.648781e+02  \n",
       "min    0.000000e+00  \n",
       "25%    1.500000e+01  \n",
       "50%    5.000000e+01  \n",
       "75%    6.800000e+01  \n",
       "max    1.999600e+04  "
      ]
     },
     "execution_count": 53,
     "metadata": {},
     "output_type": "execute_result"
    }
   ],
   "source": [
    "df1.describe()"
   ]
  },
  {
   "cell_type": "code",
   "execution_count": 54,
   "id": "a5438eee-b19c-4a53-96cc-8b1f76953da7",
   "metadata": {},
   "outputs": [
    {
     "data": {
      "text/plain": [
       "(1060213, 11)"
      ]
     },
     "execution_count": 54,
     "metadata": {},
     "output_type": "execute_result"
    }
   ],
   "source": [
    "df1.shape"
   ]
  },
  {
   "cell_type": "code",
   "execution_count": 55,
   "id": "16b5de2c-ddf0-416c-b35b-648b4f3e15ed",
   "metadata": {},
   "outputs": [
    {
     "data": {
      "text/plain": [
       "id             0\n",
       "name           0\n",
       "img            0\n",
       "asin           0\n",
       "price          0\n",
       "mrp            0\n",
       "rating         0\n",
       "ratingTotal    0\n",
       "discount       0\n",
       "seller         0\n",
       "purl           0\n",
       "dtype: int64"
      ]
     },
     "execution_count": 55,
     "metadata": {},
     "output_type": "execute_result"
    }
   ],
   "source": [
    "df1.isnull().sum()"
   ]
  },
  {
   "cell_type": "code",
   "execution_count": 56,
   "id": "fc46206e-54dc-421f-87c4-4a2fc529f011",
   "metadata": {},
   "outputs": [
    {
     "data": {
      "text/plain": [
       "Index(['id', 'name', 'img', 'asin', 'price', 'mrp', 'rating', 'ratingTotal',\n",
       "       'discount', 'seller', 'purl'],\n",
       "      dtype='object')"
      ]
     },
     "execution_count": 56,
     "metadata": {},
     "output_type": "execute_result"
    }
   ],
   "source": [
    "df1.columns"
   ]
  },
  {
   "cell_type": "markdown",
   "id": "0ea4f2a0-a00a-48f7-86d2-765f76fb728a",
   "metadata": {},
   "source": [
    "**Data Cleanning and Feature Engineering**"
   ]
  },
  {
   "cell_type": "markdown",
   "id": "914ec32e-24c2-4cb5-96bf-645163cfbae1",
   "metadata": {},
   "source": [
    "Dropping Duplicates"
   ]
  },
  {
   "cell_type": "code",
   "execution_count": 263,
   "id": "09c97f74-9b68-4f12-9113-028b4c0592d9",
   "metadata": {},
   "outputs": [
    {
     "data": {
      "text/plain": [
       "0          False\n",
       "1          False\n",
       "2          False\n",
       "3          False\n",
       "4          False\n",
       "           ...  \n",
       "1060208    False\n",
       "1060209    False\n",
       "1060210    False\n",
       "1060211    False\n",
       "1060212    False\n",
       "Length: 1060213, dtype: bool"
      ]
     },
     "execution_count": 263,
     "metadata": {},
     "output_type": "execute_result"
    }
   ],
   "source": [
    "df1.duplicated()"
   ]
  },
  {
   "cell_type": "code",
   "execution_count": 58,
   "id": "946d4e09-37ca-416b-8193-185448b08ae8",
   "metadata": {},
   "outputs": [
    {
     "name": "stdout",
     "output_type": "stream",
     "text": [
      "Number of Duplicates: 0\n"
     ]
    }
   ],
   "source": [
    "no_of_duplicates=df1.duplicated().sum()\n",
    "print('Number of Duplicates:',no_of_duplicates)"
   ]
  },
  {
   "cell_type": "markdown",
   "id": "5eb59b43-596e-4eb5-890c-6cfc5636ecf3",
   "metadata": {},
   "source": [
    "Dropping Unnecessary Columns:\n",
    "We observe that for the data analysis these columns 'img', 'asin','purl' are not necessary and does not impact for process of EDA"
   ]
  },
  {
   "cell_type": "code",
   "execution_count": 61,
   "id": "7a39a4ea-6828-44b4-bb80-753e278e3c0b",
   "metadata": {},
   "outputs": [
    {
     "data": {
      "text/html": [
       "<div>\n",
       "<style scoped>\n",
       "    .dataframe tbody tr th:only-of-type {\n",
       "        vertical-align: middle;\n",
       "    }\n",
       "\n",
       "    .dataframe tbody tr th {\n",
       "        vertical-align: top;\n",
       "    }\n",
       "\n",
       "    .dataframe thead th {\n",
       "        text-align: right;\n",
       "    }\n",
       "</style>\n",
       "<table border=\"1\" class=\"dataframe\">\n",
       "  <thead>\n",
       "    <tr style=\"text-align: right;\">\n",
       "      <th></th>\n",
       "      <th>id</th>\n",
       "      <th>name</th>\n",
       "      <th>price</th>\n",
       "      <th>mrp</th>\n",
       "      <th>rating</th>\n",
       "      <th>ratingTotal</th>\n",
       "      <th>discount</th>\n",
       "      <th>seller</th>\n",
       "    </tr>\n",
       "  </thead>\n",
       "  <tbody>\n",
       "    <tr>\n",
       "      <th>0</th>\n",
       "      <td>1</td>\n",
       "      <td>Men Solid Oversized Cotton</td>\n",
       "      <td>532.0</td>\n",
       "      <td>1299.0</td>\n",
       "      <td>4.1</td>\n",
       "      <td>5300</td>\n",
       "      <td>59</td>\n",
       "      <td>Difference of Opinion</td>\n",
       "    </tr>\n",
       "    <tr>\n",
       "      <th>1</th>\n",
       "      <td>2</td>\n",
       "      <td>Men Cotton Pure Cotton T-shirt</td>\n",
       "      <td>274.0</td>\n",
       "      <td>499.0</td>\n",
       "      <td>4.2</td>\n",
       "      <td>25400</td>\n",
       "      <td>45</td>\n",
       "      <td>Roadster</td>\n",
       "    </tr>\n",
       "    <tr>\n",
       "      <th>2</th>\n",
       "      <td>3</td>\n",
       "      <td>Women Pure Cotton T-shirt</td>\n",
       "      <td>551.0</td>\n",
       "      <td>1199.0</td>\n",
       "      <td>4.5</td>\n",
       "      <td>3400</td>\n",
       "      <td>54</td>\n",
       "      <td>DILLINGER</td>\n",
       "    </tr>\n",
       "    <tr>\n",
       "      <th>3</th>\n",
       "      <td>4</td>\n",
       "      <td>Typography Print T-shirt</td>\n",
       "      <td>296.0</td>\n",
       "      <td>1099.0</td>\n",
       "      <td>4.0</td>\n",
       "      <td>18400</td>\n",
       "      <td>73</td>\n",
       "      <td>Huetrap</td>\n",
       "    </tr>\n",
       "    <tr>\n",
       "      <th>4</th>\n",
       "      <td>5</td>\n",
       "      <td>Printed Round Neck Pure Cotton T-shirt</td>\n",
       "      <td>494.0</td>\n",
       "      <td>899.0</td>\n",
       "      <td>4.2</td>\n",
       "      <td>3800</td>\n",
       "      <td>45</td>\n",
       "      <td>Roadster</td>\n",
       "    </tr>\n",
       "  </tbody>\n",
       "</table>\n",
       "</div>"
      ],
      "text/plain": [
       "   id                                    name  price     mrp  rating  \\\n",
       "0   1              Men Solid Oversized Cotton  532.0  1299.0     4.1   \n",
       "1   2          Men Cotton Pure Cotton T-shirt  274.0   499.0     4.2   \n",
       "2   3               Women Pure Cotton T-shirt  551.0  1199.0     4.5   \n",
       "3   4                Typography Print T-shirt  296.0  1099.0     4.0   \n",
       "4   5  Printed Round Neck Pure Cotton T-shirt  494.0   899.0     4.2   \n",
       "\n",
       "   ratingTotal  discount                 seller  \n",
       "0         5300        59  Difference of Opinion  \n",
       "1        25400        45               Roadster  \n",
       "2         3400        54              DILLINGER  \n",
       "3        18400        73                Huetrap  \n",
       "4         3800        45               Roadster  "
      ]
     },
     "execution_count": 61,
     "metadata": {},
     "output_type": "execute_result"
    }
   ],
   "source": [
    "df2=df1.drop(['img', 'asin', 'purl'],axis='columns')\n",
    "df2.head()"
   ]
  },
  {
   "cell_type": "markdown",
   "id": "33f87842-68c3-45fa-8c42-6d986aad52b4",
   "metadata": {},
   "source": [
    "Filling the Missing Values"
   ]
  },
  {
   "cell_type": "code",
   "execution_count": 62,
   "id": "3cbba951-fdf4-4ab6-b28f-30ac00d1b5b1",
   "metadata": {},
   "outputs": [
    {
     "data": {
      "text/plain": [
       "id             0\n",
       "name           0\n",
       "price          0\n",
       "mrp            0\n",
       "rating         0\n",
       "ratingTotal    0\n",
       "discount       0\n",
       "seller         0\n",
       "dtype: int64"
      ]
     },
     "execution_count": 62,
     "metadata": {},
     "output_type": "execute_result"
    }
   ],
   "source": [
    "df2.isnull().sum()"
   ]
  },
  {
   "cell_type": "code",
   "execution_count": 63,
   "id": "3bd408e6-1e51-4be1-b40d-1602fff32dc0",
   "metadata": {},
   "outputs": [
    {
     "data": {
      "text/plain": [
       "Index(['id', 'name', 'price', 'mrp', 'rating', 'ratingTotal', 'discount',\n",
       "       'seller'],\n",
       "      dtype='object')"
      ]
     },
     "execution_count": 63,
     "metadata": {},
     "output_type": "execute_result"
    }
   ],
   "source": [
    "df2.columns"
   ]
  },
  {
   "cell_type": "code",
   "execution_count": 64,
   "id": "81932d0b-b87d-44d6-8727-21f282e2a327",
   "metadata": {},
   "outputs": [
    {
     "data": {
      "text/plain": [
       "0           5300\n",
       "1          25400\n",
       "2           3400\n",
       "3          18400\n",
       "4           3800\n",
       "           ...  \n",
       "1060208       44\n",
       "1060209       34\n",
       "1060210        8\n",
       "1060211      592\n",
       "1060212        0\n",
       "Name: ratingTotal, Length: 1060213, dtype: int64"
      ]
     },
     "execution_count": 64,
     "metadata": {},
     "output_type": "execute_result"
    }
   ],
   "source": [
    "df2.ratingTotal"
   ]
  },
  {
   "cell_type": "code",
   "execution_count": 65,
   "id": "e382d385-9468-4b9c-b844-ac7d08f16c6b",
   "metadata": {},
   "outputs": [
    {
     "data": {
      "text/html": [
       "<div>\n",
       "<style scoped>\n",
       "    .dataframe tbody tr th:only-of-type {\n",
       "        vertical-align: middle;\n",
       "    }\n",
       "\n",
       "    .dataframe tbody tr th {\n",
       "        vertical-align: top;\n",
       "    }\n",
       "\n",
       "    .dataframe thead th {\n",
       "        text-align: right;\n",
       "    }\n",
       "</style>\n",
       "<table border=\"1\" class=\"dataframe\">\n",
       "  <thead>\n",
       "    <tr style=\"text-align: right;\">\n",
       "      <th></th>\n",
       "      <th>id</th>\n",
       "      <th>price</th>\n",
       "      <th>mrp</th>\n",
       "      <th>rating</th>\n",
       "      <th>ratingTotal</th>\n",
       "      <th>discount</th>\n",
       "    </tr>\n",
       "  </thead>\n",
       "  <tbody>\n",
       "    <tr>\n",
       "      <th>count</th>\n",
       "      <td>1.060213e+06</td>\n",
       "      <td>1.060213e+06</td>\n",
       "      <td>1.060213e+06</td>\n",
       "      <td>1.060213e+06</td>\n",
       "      <td>1.060213e+06</td>\n",
       "      <td>1.060213e+06</td>\n",
       "    </tr>\n",
       "    <tr>\n",
       "      <th>mean</th>\n",
       "      <td>5.301070e+05</td>\n",
       "      <td>1.536235e+03</td>\n",
       "      <td>2.668379e+03</td>\n",
       "      <td>1.060150e+00</td>\n",
       "      <td>4.189618e+01</td>\n",
       "      <td>1.496420e+02</td>\n",
       "    </tr>\n",
       "    <tr>\n",
       "      <th>std</th>\n",
       "      <td>3.060573e+05</td>\n",
       "      <td>3.051140e+03</td>\n",
       "      <td>3.877900e+03</td>\n",
       "      <td>1.829632e+00</td>\n",
       "      <td>7.476645e+02</td>\n",
       "      <td>5.648781e+02</td>\n",
       "    </tr>\n",
       "    <tr>\n",
       "      <th>min</th>\n",
       "      <td>1.000000e+00</td>\n",
       "      <td>2.500000e+01</td>\n",
       "      <td>2.500000e+01</td>\n",
       "      <td>0.000000e+00</td>\n",
       "      <td>0.000000e+00</td>\n",
       "      <td>0.000000e+00</td>\n",
       "    </tr>\n",
       "    <tr>\n",
       "      <th>25%</th>\n",
       "      <td>2.650540e+05</td>\n",
       "      <td>4.990000e+02</td>\n",
       "      <td>9.990000e+02</td>\n",
       "      <td>0.000000e+00</td>\n",
       "      <td>0.000000e+00</td>\n",
       "      <td>1.500000e+01</td>\n",
       "    </tr>\n",
       "    <tr>\n",
       "      <th>50%</th>\n",
       "      <td>5.301070e+05</td>\n",
       "      <td>8.110000e+02</td>\n",
       "      <td>1.780000e+03</td>\n",
       "      <td>0.000000e+00</td>\n",
       "      <td>0.000000e+00</td>\n",
       "      <td>5.000000e+01</td>\n",
       "    </tr>\n",
       "    <tr>\n",
       "      <th>75%</th>\n",
       "      <td>7.951600e+05</td>\n",
       "      <td>1.497000e+03</td>\n",
       "      <td>2.999000e+03</td>\n",
       "      <td>2.800000e+00</td>\n",
       "      <td>3.000000e+00</td>\n",
       "      <td>6.800000e+01</td>\n",
       "    </tr>\n",
       "    <tr>\n",
       "      <th>max</th>\n",
       "      <td>1.060213e+06</td>\n",
       "      <td>2.575000e+05</td>\n",
       "      <td>2.575000e+05</td>\n",
       "      <td>5.000000e+00</td>\n",
       "      <td>7.640000e+04</td>\n",
       "      <td>1.999600e+04</td>\n",
       "    </tr>\n",
       "  </tbody>\n",
       "</table>\n",
       "</div>"
      ],
      "text/plain": [
       "                 id         price           mrp        rating   ratingTotal  \\\n",
       "count  1.060213e+06  1.060213e+06  1.060213e+06  1.060213e+06  1.060213e+06   \n",
       "mean   5.301070e+05  1.536235e+03  2.668379e+03  1.060150e+00  4.189618e+01   \n",
       "std    3.060573e+05  3.051140e+03  3.877900e+03  1.829632e+00  7.476645e+02   \n",
       "min    1.000000e+00  2.500000e+01  2.500000e+01  0.000000e+00  0.000000e+00   \n",
       "25%    2.650540e+05  4.990000e+02  9.990000e+02  0.000000e+00  0.000000e+00   \n",
       "50%    5.301070e+05  8.110000e+02  1.780000e+03  0.000000e+00  0.000000e+00   \n",
       "75%    7.951600e+05  1.497000e+03  2.999000e+03  2.800000e+00  3.000000e+00   \n",
       "max    1.060213e+06  2.575000e+05  2.575000e+05  5.000000e+00  7.640000e+04   \n",
       "\n",
       "           discount  \n",
       "count  1.060213e+06  \n",
       "mean   1.496420e+02  \n",
       "std    5.648781e+02  \n",
       "min    0.000000e+00  \n",
       "25%    1.500000e+01  \n",
       "50%    5.000000e+01  \n",
       "75%    6.800000e+01  \n",
       "max    1.999600e+04  "
      ]
     },
     "execution_count": 65,
     "metadata": {},
     "output_type": "execute_result"
    }
   ],
   "source": [
    "df2.describe()"
   ]
  },
  {
   "cell_type": "code",
   "execution_count": 66,
   "id": "50c9b3b6-996c-49dd-90f2-ee235f473295",
   "metadata": {},
   "outputs": [
    {
     "data": {
      "text/html": [
       "<div>\n",
       "<style scoped>\n",
       "    .dataframe tbody tr th:only-of-type {\n",
       "        vertical-align: middle;\n",
       "    }\n",
       "\n",
       "    .dataframe tbody tr th {\n",
       "        vertical-align: top;\n",
       "    }\n",
       "\n",
       "    .dataframe thead th {\n",
       "        text-align: right;\n",
       "    }\n",
       "</style>\n",
       "<table border=\"1\" class=\"dataframe\">\n",
       "  <thead>\n",
       "    <tr style=\"text-align: right;\">\n",
       "      <th></th>\n",
       "      <th>id</th>\n",
       "      <th>name</th>\n",
       "      <th>price</th>\n",
       "      <th>mrp</th>\n",
       "      <th>rating</th>\n",
       "      <th>ratingTotal</th>\n",
       "      <th>discount</th>\n",
       "      <th>seller</th>\n",
       "    </tr>\n",
       "  </thead>\n",
       "  <tbody>\n",
       "    <tr>\n",
       "      <th>235289</th>\n",
       "      <td>235290</td>\n",
       "      <td>Gold-Plated Jewellery Set</td>\n",
       "      <td>4999.0</td>\n",
       "      <td>24995.0</td>\n",
       "      <td>0.0</td>\n",
       "      <td>0</td>\n",
       "      <td>19996</td>\n",
       "      <td>XPNSV</td>\n",
       "    </tr>\n",
       "    <tr>\n",
       "      <th>269783</th>\n",
       "      <td>269784</td>\n",
       "      <td>Gold-Plated Jewellery Set</td>\n",
       "      <td>4999.0</td>\n",
       "      <td>24995.0</td>\n",
       "      <td>0.0</td>\n",
       "      <td>0</td>\n",
       "      <td>19996</td>\n",
       "      <td>XPNSV</td>\n",
       "    </tr>\n",
       "  </tbody>\n",
       "</table>\n",
       "</div>"
      ],
      "text/plain": [
       "            id                       name   price      mrp  rating  \\\n",
       "235289  235290  Gold-Plated Jewellery Set  4999.0  24995.0     0.0   \n",
       "269783  269784  Gold-Plated Jewellery Set  4999.0  24995.0     0.0   \n",
       "\n",
       "        ratingTotal  discount seller  \n",
       "235289            0     19996  XPNSV  \n",
       "269783            0     19996  XPNSV  "
      ]
     },
     "execution_count": 66,
     "metadata": {},
     "output_type": "execute_result"
    }
   ],
   "source": [
    "df2[df2.discount==1.999600e+04]"
   ]
  },
  {
   "cell_type": "code",
   "execution_count": 67,
   "id": "c5be5446-2b51-4ee6-abcd-41737c6ba427",
   "metadata": {},
   "outputs": [
    {
     "data": {
      "text/html": [
       "<div>\n",
       "<style scoped>\n",
       "    .dataframe tbody tr th:only-of-type {\n",
       "        vertical-align: middle;\n",
       "    }\n",
       "\n",
       "    .dataframe tbody tr th {\n",
       "        vertical-align: top;\n",
       "    }\n",
       "\n",
       "    .dataframe thead th {\n",
       "        text-align: right;\n",
       "    }\n",
       "</style>\n",
       "<table border=\"1\" class=\"dataframe\">\n",
       "  <thead>\n",
       "    <tr style=\"text-align: right;\">\n",
       "      <th></th>\n",
       "      <th>price</th>\n",
       "      <th>mrp</th>\n",
       "      <th>discount</th>\n",
       "    </tr>\n",
       "  </thead>\n",
       "  <tbody>\n",
       "    <tr>\n",
       "      <th>0</th>\n",
       "      <td>532.0</td>\n",
       "      <td>1299.0</td>\n",
       "      <td>59</td>\n",
       "    </tr>\n",
       "    <tr>\n",
       "      <th>1</th>\n",
       "      <td>274.0</td>\n",
       "      <td>499.0</td>\n",
       "      <td>45</td>\n",
       "    </tr>\n",
       "    <tr>\n",
       "      <th>2</th>\n",
       "      <td>551.0</td>\n",
       "      <td>1199.0</td>\n",
       "      <td>54</td>\n",
       "    </tr>\n",
       "    <tr>\n",
       "      <th>3</th>\n",
       "      <td>296.0</td>\n",
       "      <td>1099.0</td>\n",
       "      <td>73</td>\n",
       "    </tr>\n",
       "    <tr>\n",
       "      <th>4</th>\n",
       "      <td>494.0</td>\n",
       "      <td>899.0</td>\n",
       "      <td>45</td>\n",
       "    </tr>\n",
       "    <tr>\n",
       "      <th>...</th>\n",
       "      <td>...</td>\n",
       "      <td>...</td>\n",
       "      <td>...</td>\n",
       "    </tr>\n",
       "    <tr>\n",
       "      <th>1060208</th>\n",
       "      <td>1199.0</td>\n",
       "      <td>2399.0</td>\n",
       "      <td>50</td>\n",
       "    </tr>\n",
       "    <tr>\n",
       "      <th>1060209</th>\n",
       "      <td>574.0</td>\n",
       "      <td>2299.0</td>\n",
       "      <td>75</td>\n",
       "    </tr>\n",
       "    <tr>\n",
       "      <th>1060210</th>\n",
       "      <td>799.0</td>\n",
       "      <td>1599.0</td>\n",
       "      <td>50</td>\n",
       "    </tr>\n",
       "    <tr>\n",
       "      <th>1060211</th>\n",
       "      <td>1199.0</td>\n",
       "      <td>1999.0</td>\n",
       "      <td>40</td>\n",
       "    </tr>\n",
       "    <tr>\n",
       "      <th>1060212</th>\n",
       "      <td>835.0</td>\n",
       "      <td>2199.0</td>\n",
       "      <td>62</td>\n",
       "    </tr>\n",
       "  </tbody>\n",
       "</table>\n",
       "<p>1060213 rows × 3 columns</p>\n",
       "</div>"
      ],
      "text/plain": [
       "          price     mrp  discount\n",
       "0         532.0  1299.0        59\n",
       "1         274.0   499.0        45\n",
       "2         551.0  1199.0        54\n",
       "3         296.0  1099.0        73\n",
       "4         494.0   899.0        45\n",
       "...         ...     ...       ...\n",
       "1060208  1199.0  2399.0        50\n",
       "1060209   574.0  2299.0        75\n",
       "1060210   799.0  1599.0        50\n",
       "1060211  1199.0  1999.0        40\n",
       "1060212   835.0  2199.0        62\n",
       "\n",
       "[1060213 rows x 3 columns]"
      ]
     },
     "execution_count": 67,
     "metadata": {},
     "output_type": "execute_result"
    }
   ],
   "source": [
    "df2[['price','mrp','discount']]"
   ]
  },
  {
   "cell_type": "markdown",
   "id": "d3e168ad-99f6-49fb-bfd9-92b6f96508cf",
   "metadata": {},
   "source": [
    "Observation:\n",
    " In the given discount column the values were not calculated properly I can find some\n",
    " wrong calculations and values. So let's drop the columns and we explicitly add discount \n",
    " and discount percentage"
   ]
  },
  {
   "cell_type": "code",
   "execution_count": 68,
   "id": "8ee260f8-4ae1-4ea5-bc54-b7279a6be28d",
   "metadata": {},
   "outputs": [
    {
     "data": {
      "text/html": [
       "<div>\n",
       "<style scoped>\n",
       "    .dataframe tbody tr th:only-of-type {\n",
       "        vertical-align: middle;\n",
       "    }\n",
       "\n",
       "    .dataframe tbody tr th {\n",
       "        vertical-align: top;\n",
       "    }\n",
       "\n",
       "    .dataframe thead th {\n",
       "        text-align: right;\n",
       "    }\n",
       "</style>\n",
       "<table border=\"1\" class=\"dataframe\">\n",
       "  <thead>\n",
       "    <tr style=\"text-align: right;\">\n",
       "      <th></th>\n",
       "      <th>id</th>\n",
       "      <th>name</th>\n",
       "      <th>price</th>\n",
       "      <th>mrp</th>\n",
       "      <th>rating</th>\n",
       "      <th>ratingTotal</th>\n",
       "      <th>seller</th>\n",
       "    </tr>\n",
       "  </thead>\n",
       "  <tbody>\n",
       "    <tr>\n",
       "      <th>0</th>\n",
       "      <td>1</td>\n",
       "      <td>Men Solid Oversized Cotton</td>\n",
       "      <td>532.0</td>\n",
       "      <td>1299.0</td>\n",
       "      <td>4.1</td>\n",
       "      <td>5300</td>\n",
       "      <td>Difference of Opinion</td>\n",
       "    </tr>\n",
       "    <tr>\n",
       "      <th>1</th>\n",
       "      <td>2</td>\n",
       "      <td>Men Cotton Pure Cotton T-shirt</td>\n",
       "      <td>274.0</td>\n",
       "      <td>499.0</td>\n",
       "      <td>4.2</td>\n",
       "      <td>25400</td>\n",
       "      <td>Roadster</td>\n",
       "    </tr>\n",
       "    <tr>\n",
       "      <th>2</th>\n",
       "      <td>3</td>\n",
       "      <td>Women Pure Cotton T-shirt</td>\n",
       "      <td>551.0</td>\n",
       "      <td>1199.0</td>\n",
       "      <td>4.5</td>\n",
       "      <td>3400</td>\n",
       "      <td>DILLINGER</td>\n",
       "    </tr>\n",
       "    <tr>\n",
       "      <th>3</th>\n",
       "      <td>4</td>\n",
       "      <td>Typography Print T-shirt</td>\n",
       "      <td>296.0</td>\n",
       "      <td>1099.0</td>\n",
       "      <td>4.0</td>\n",
       "      <td>18400</td>\n",
       "      <td>Huetrap</td>\n",
       "    </tr>\n",
       "    <tr>\n",
       "      <th>4</th>\n",
       "      <td>5</td>\n",
       "      <td>Printed Round Neck Pure Cotton T-shirt</td>\n",
       "      <td>494.0</td>\n",
       "      <td>899.0</td>\n",
       "      <td>4.2</td>\n",
       "      <td>3800</td>\n",
       "      <td>Roadster</td>\n",
       "    </tr>\n",
       "  </tbody>\n",
       "</table>\n",
       "</div>"
      ],
      "text/plain": [
       "   id                                    name  price     mrp  rating  \\\n",
       "0   1              Men Solid Oversized Cotton  532.0  1299.0     4.1   \n",
       "1   2          Men Cotton Pure Cotton T-shirt  274.0   499.0     4.2   \n",
       "2   3               Women Pure Cotton T-shirt  551.0  1199.0     4.5   \n",
       "3   4                Typography Print T-shirt  296.0  1099.0     4.0   \n",
       "4   5  Printed Round Neck Pure Cotton T-shirt  494.0   899.0     4.2   \n",
       "\n",
       "   ratingTotal                 seller  \n",
       "0         5300  Difference of Opinion  \n",
       "1        25400               Roadster  \n",
       "2         3400              DILLINGER  \n",
       "3        18400                Huetrap  \n",
       "4         3800               Roadster  "
      ]
     },
     "execution_count": 68,
     "metadata": {},
     "output_type": "execute_result"
    }
   ],
   "source": [
    "df3=df2.drop(['discount'],axis='columns')\n",
    "df3.head()"
   ]
  },
  {
   "cell_type": "code",
   "execution_count": 69,
   "id": "aa0c9290-2b04-4e93-98c3-8baa62c0e2f9",
   "metadata": {},
   "outputs": [
    {
     "data": {
      "text/html": [
       "<div>\n",
       "<style scoped>\n",
       "    .dataframe tbody tr th:only-of-type {\n",
       "        vertical-align: middle;\n",
       "    }\n",
       "\n",
       "    .dataframe tbody tr th {\n",
       "        vertical-align: top;\n",
       "    }\n",
       "\n",
       "    .dataframe thead th {\n",
       "        text-align: right;\n",
       "    }\n",
       "</style>\n",
       "<table border=\"1\" class=\"dataframe\">\n",
       "  <thead>\n",
       "    <tr style=\"text-align: right;\">\n",
       "      <th></th>\n",
       "      <th>id</th>\n",
       "      <th>name</th>\n",
       "      <th>price</th>\n",
       "      <th>mrp</th>\n",
       "      <th>rating</th>\n",
       "      <th>ratingTotal</th>\n",
       "      <th>seller</th>\n",
       "      <th>total_discount</th>\n",
       "    </tr>\n",
       "  </thead>\n",
       "  <tbody>\n",
       "    <tr>\n",
       "      <th>0</th>\n",
       "      <td>1</td>\n",
       "      <td>Men Solid Oversized Cotton</td>\n",
       "      <td>532.0</td>\n",
       "      <td>1299.0</td>\n",
       "      <td>4.1</td>\n",
       "      <td>5300</td>\n",
       "      <td>Difference of Opinion</td>\n",
       "      <td>767</td>\n",
       "    </tr>\n",
       "    <tr>\n",
       "      <th>1</th>\n",
       "      <td>2</td>\n",
       "      <td>Men Cotton Pure Cotton T-shirt</td>\n",
       "      <td>274.0</td>\n",
       "      <td>499.0</td>\n",
       "      <td>4.2</td>\n",
       "      <td>25400</td>\n",
       "      <td>Roadster</td>\n",
       "      <td>225</td>\n",
       "    </tr>\n",
       "    <tr>\n",
       "      <th>2</th>\n",
       "      <td>3</td>\n",
       "      <td>Women Pure Cotton T-shirt</td>\n",
       "      <td>551.0</td>\n",
       "      <td>1199.0</td>\n",
       "      <td>4.5</td>\n",
       "      <td>3400</td>\n",
       "      <td>DILLINGER</td>\n",
       "      <td>648</td>\n",
       "    </tr>\n",
       "    <tr>\n",
       "      <th>3</th>\n",
       "      <td>4</td>\n",
       "      <td>Typography Print T-shirt</td>\n",
       "      <td>296.0</td>\n",
       "      <td>1099.0</td>\n",
       "      <td>4.0</td>\n",
       "      <td>18400</td>\n",
       "      <td>Huetrap</td>\n",
       "      <td>803</td>\n",
       "    </tr>\n",
       "    <tr>\n",
       "      <th>4</th>\n",
       "      <td>5</td>\n",
       "      <td>Printed Round Neck Pure Cotton T-shirt</td>\n",
       "      <td>494.0</td>\n",
       "      <td>899.0</td>\n",
       "      <td>4.2</td>\n",
       "      <td>3800</td>\n",
       "      <td>Roadster</td>\n",
       "      <td>405</td>\n",
       "    </tr>\n",
       "  </tbody>\n",
       "</table>\n",
       "</div>"
      ],
      "text/plain": [
       "   id                                    name  price     mrp  rating  \\\n",
       "0   1              Men Solid Oversized Cotton  532.0  1299.0     4.1   \n",
       "1   2          Men Cotton Pure Cotton T-shirt  274.0   499.0     4.2   \n",
       "2   3               Women Pure Cotton T-shirt  551.0  1199.0     4.5   \n",
       "3   4                Typography Print T-shirt  296.0  1099.0     4.0   \n",
       "4   5  Printed Round Neck Pure Cotton T-shirt  494.0   899.0     4.2   \n",
       "\n",
       "   ratingTotal                 seller  total_discount  \n",
       "0         5300  Difference of Opinion             767  \n",
       "1        25400               Roadster             225  \n",
       "2         3400              DILLINGER             648  \n",
       "3        18400                Huetrap             803  \n",
       "4         3800               Roadster             405  "
      ]
     },
     "execution_count": 69,
     "metadata": {},
     "output_type": "execute_result"
    }
   ],
   "source": [
    "df3['total_discount']=(df3['mrp']-df3['price']).astype(int)\n",
    "df3.head()"
   ]
  },
  {
   "cell_type": "code",
   "execution_count": 70,
   "id": "1ae9aa03-5a29-4820-bc52-67cb8e55191c",
   "metadata": {},
   "outputs": [
    {
     "data": {
      "text/html": [
       "<div>\n",
       "<style scoped>\n",
       "    .dataframe tbody tr th:only-of-type {\n",
       "        vertical-align: middle;\n",
       "    }\n",
       "\n",
       "    .dataframe tbody tr th {\n",
       "        vertical-align: top;\n",
       "    }\n",
       "\n",
       "    .dataframe thead th {\n",
       "        text-align: right;\n",
       "    }\n",
       "</style>\n",
       "<table border=\"1\" class=\"dataframe\">\n",
       "  <thead>\n",
       "    <tr style=\"text-align: right;\">\n",
       "      <th></th>\n",
       "      <th>id</th>\n",
       "      <th>name</th>\n",
       "      <th>price</th>\n",
       "      <th>mrp</th>\n",
       "      <th>rating</th>\n",
       "      <th>ratingTotal</th>\n",
       "      <th>seller</th>\n",
       "      <th>total_discount</th>\n",
       "      <th>discount_perc</th>\n",
       "    </tr>\n",
       "  </thead>\n",
       "  <tbody>\n",
       "    <tr>\n",
       "      <th>0</th>\n",
       "      <td>1</td>\n",
       "      <td>Men Solid Oversized Cotton</td>\n",
       "      <td>532.0</td>\n",
       "      <td>1299.0</td>\n",
       "      <td>4.1</td>\n",
       "      <td>5300</td>\n",
       "      <td>Difference of Opinion</td>\n",
       "      <td>767</td>\n",
       "      <td>59</td>\n",
       "    </tr>\n",
       "    <tr>\n",
       "      <th>1</th>\n",
       "      <td>2</td>\n",
       "      <td>Men Cotton Pure Cotton T-shirt</td>\n",
       "      <td>274.0</td>\n",
       "      <td>499.0</td>\n",
       "      <td>4.2</td>\n",
       "      <td>25400</td>\n",
       "      <td>Roadster</td>\n",
       "      <td>225</td>\n",
       "      <td>45</td>\n",
       "    </tr>\n",
       "    <tr>\n",
       "      <th>2</th>\n",
       "      <td>3</td>\n",
       "      <td>Women Pure Cotton T-shirt</td>\n",
       "      <td>551.0</td>\n",
       "      <td>1199.0</td>\n",
       "      <td>4.5</td>\n",
       "      <td>3400</td>\n",
       "      <td>DILLINGER</td>\n",
       "      <td>648</td>\n",
       "      <td>54</td>\n",
       "    </tr>\n",
       "    <tr>\n",
       "      <th>3</th>\n",
       "      <td>4</td>\n",
       "      <td>Typography Print T-shirt</td>\n",
       "      <td>296.0</td>\n",
       "      <td>1099.0</td>\n",
       "      <td>4.0</td>\n",
       "      <td>18400</td>\n",
       "      <td>Huetrap</td>\n",
       "      <td>803</td>\n",
       "      <td>73</td>\n",
       "    </tr>\n",
       "    <tr>\n",
       "      <th>4</th>\n",
       "      <td>5</td>\n",
       "      <td>Printed Round Neck Pure Cotton T-shirt</td>\n",
       "      <td>494.0</td>\n",
       "      <td>899.0</td>\n",
       "      <td>4.2</td>\n",
       "      <td>3800</td>\n",
       "      <td>Roadster</td>\n",
       "      <td>405</td>\n",
       "      <td>45</td>\n",
       "    </tr>\n",
       "  </tbody>\n",
       "</table>\n",
       "</div>"
      ],
      "text/plain": [
       "   id                                    name  price     mrp  rating  \\\n",
       "0   1              Men Solid Oversized Cotton  532.0  1299.0     4.1   \n",
       "1   2          Men Cotton Pure Cotton T-shirt  274.0   499.0     4.2   \n",
       "2   3               Women Pure Cotton T-shirt  551.0  1199.0     4.5   \n",
       "3   4                Typography Print T-shirt  296.0  1099.0     4.0   \n",
       "4   5  Printed Round Neck Pure Cotton T-shirt  494.0   899.0     4.2   \n",
       "\n",
       "   ratingTotal                 seller  total_discount  discount_perc  \n",
       "0         5300  Difference of Opinion             767             59  \n",
       "1        25400               Roadster             225             45  \n",
       "2         3400              DILLINGER             648             54  \n",
       "3        18400                Huetrap             803             73  \n",
       "4         3800               Roadster             405             45  "
      ]
     },
     "execution_count": 70,
     "metadata": {},
     "output_type": "execute_result"
    }
   ],
   "source": [
    "df3['discount_perc']=(((df3.total_discount/df3.mrp)*100).astype(int))\n",
    "df3.head()"
   ]
  },
  {
   "cell_type": "markdown",
   "id": "b8bdd09a-da42-4d3c-a675-9e17c9fda76a",
   "metadata": {},
   "source": [
    "**Exploratory Data Analysis**"
   ]
  },
  {
   "cell_type": "markdown",
   "id": "eecde209-2a93-4c85-ab53-2837c17d9d41",
   "metadata": {},
   "source": [
    "**Univariate Statistical Analysis**"
   ]
  },
  {
   "cell_type": "markdown",
   "id": "0d067a3d-9f19-4ea4-9c81-ec2f0e7568ba",
   "metadata": {},
   "source": [
    "The univariate analysis is aimed at exploring the distribution of two crucial\n",
    "variables–product price and customer ratings individually .By examining descriptive statistics andvisualizing the data, we gain insights into the central tendency, spread,  and potential outliers.This step is important for understanding the characteristics of pricing and rating patterns,which could inform further analysis and decision-making."
   ]
  },
  {
   "cell_type": "markdown",
   "id": "1cad6cf4-5f7b-42a4-8bad-7b7f9bcabebb",
   "metadata": {},
   "source": [
    "**Distributon of Price**"
   ]
  },
  {
   "cell_type": "code",
   "execution_count": 86,
   "id": "11a6bd6e-2e1f-4622-bdef-fde5157b5a2f",
   "metadata": {},
   "outputs": [
    {
     "data": {
      "image/png": "[encoded data removed]",
      "text/plain": [
       "<Figure size 1000x500 with 1 Axes>"
      ]
     },
     "metadata": {},
     "output_type": "display_data"
    }
   ],
   "source": [
    "plt.figure(figsize=(10,5))\n",
    "sns.histplot(x=df3.price,kde=True,bins=50,data=df3)\n",
    "plt.xlabel('Prices')\n",
    "plt.ylabel('Frequency')\n",
    "plt.title('Distribution of Prices')\n",
    "plt.show()"
   ]
  },
  {
   "cell_type": "markdown",
   "id": "47f020d0-8567-45b1-9d6b-031a4339090c",
   "metadata": {},
   "source": [
    "**Observation:**"
   ]
  },
  {
   "cell_type": "markdown",
   "id": "2515419c-21bd-4732-97df-b86de7c66ddd",
   "metadata": {},
   "source": [
    "1.The price distribution also shows the highly left skewness, because of the substantial\n",
    "gap between the least and most expensive products in the dataset."
   ]
  },
  {
   "cell_type": "markdown",
   "id": "5816779d-a19c-47ab-ac56-d5fda746ec8c",
   "metadata": {},
   "source": [
    "2.To address this skewness, a logarithmic transformation was applied to the price variable.\n",
    "By taking the logarithm of prices, the skewness was effectively reduced, resulting in a\n",
    "more normal-like distribution."
   ]
  },
  {
   "cell_type": "markdown",
   "id": "265dbaff-270d-4741-b21a-d7e9e5d96338",
   "metadata": {},
   "source": [
    "3.This transformation not only handled the skewness issue but also facilitated better\n",
    "interpretation and analysis of pricing patterns, as extreme values were brought closer\n",
    "to the central tendency, enabling more robust statistical modeling and inference."
   ]
  },
  {
   "cell_type": "code",
   "execution_count": 80,
   "id": "27b34751-a97e-4b81-89fb-5b5df3ecce91",
   "metadata": {},
   "outputs": [
    {
     "data": {
      "text/plain": [
       "count    1.060213e+06\n",
       "mean     6.829711e+00\n",
       "std      8.583894e-01\n",
       "min      3.258097e+00\n",
       "25%      6.214608e+00\n",
       "50%      6.699500e+00\n",
       "75%      7.311886e+00\n",
       "max      1.245878e+01\n",
       "Name: price, dtype: float64"
      ]
     },
     "execution_count": 80,
     "metadata": {},
     "output_type": "execute_result"
    }
   ],
   "source": [
    "np.log1p(df3.price).describe()"
   ]
  },
  {
   "cell_type": "code",
   "execution_count": 83,
   "id": "f266c929-ca1e-4c7c-ad71-aad2a9187c31",
   "metadata": {},
   "outputs": [
    {
     "data": {
      "image/png": "[encoded data removed]",
      "text/plain": [
       "<Figure size 1000x500 with 1 Axes>"
      ]
     },
     "metadata": {},
     "output_type": "display_data"
    }
   ],
   "source": [
    "plt.figure(figsize=(10,5))\n",
    "sns.histplot(x=np.log1p(df3.price),bins=50,kde=True,data=df3)\n",
    "plt.xlabel('Log Prices')\n",
    "plt.ylabel('Frequency')\n",
    "plt.title('Distribution of Log Prices')\n",
    "plt.show()"
   ]
  },
  {
   "cell_type": "code",
   "execution_count": 90,
   "id": "142d5312-606a-46eb-9473-a30854c9986b",
   "metadata": {},
   "outputs": [
    {
     "data": {
      "text/plain": [
       "148.4131591025766"
      ]
     },
     "execution_count": 90,
     "metadata": {},
     "output_type": "execute_result"
    }
   ],
   "source": [
    "low_range=np.exp(5)\n",
    "low_range"
   ]
  },
  {
   "cell_type": "code",
   "execution_count": 94,
   "id": "839f3f39-b633-4fd5-b62f-7b89e08f158a",
   "metadata": {},
   "outputs": [
    {
     "data": {
      "text/plain": [
       "8103.083927575384"
      ]
     },
     "execution_count": 94,
     "metadata": {},
     "output_type": "execute_result"
    }
   ],
   "source": [
    "high_range=np.exp(9)\n",
    "high_range"
   ]
  },
  {
   "cell_type": "code",
   "execution_count": 95,
   "id": "68990c39-9182-49a9-b28d-4d80098fc98c",
   "metadata": {},
   "outputs": [
    {
     "data": {
      "text/plain": [
       "403.4287934927351"
      ]
     },
     "execution_count": 95,
     "metadata": {},
     "output_type": "execute_result"
    }
   ],
   "source": [
    "most_prices_low_range=np.exp(6)\n",
    "most_prices_low_range"
   ]
  },
  {
   "cell_type": "code",
   "execution_count": 97,
   "id": "8161c3a1-62b7-49ee-8679-0f9c02cb900d",
   "metadata": {},
   "outputs": [
    {
     "data": {
      "text/plain": [
       "1096.6331584284585"
      ]
     },
     "execution_count": 97,
     "metadata": {},
     "output_type": "execute_result"
    }
   ],
   "source": [
    "most_prices_high_range=np.exp(7)\n",
    "most_prices_high_range"
   ]
  },
  {
   "cell_type": "markdown",
   "id": "663e1d23-4ca7-48c8-8c07-198fccf8cc15",
   "metadata": {},
   "source": [
    "**Observation**"
   ]
  },
  {
   "cell_type": "markdown",
   "id": "ce7838bf-ed9e-48cb-8367-ea311d6c5f12",
   "metadata": {},
   "source": [
    "1.This looks similiar like the distribution of prices without apply log function \n",
    "i.e after applying the log function to the distribution this distribution also contain\n",
    "left skewness representing closer to the original prices "
   ]
  },
  {
   "cell_type": "markdown",
   "id": "a3620650-bf25-42b1-a8c9-0b1483d64958",
   "metadata": {},
   "source": [
    "2.Most logged prices fell in the range of 5 to 9,with maximum frequency occuring in\n",
    "closer to the average values i.e in the range of 6,7 comprising over 110000 products "
   ]
  },
  {
   "cell_type": "markdown",
   "id": "f41e57e8-09e8-4301-9ac3-a4dc3bba3a5d",
   "metadata": {},
   "source": [
    "3.The concentration of most prices between roughly INR 150 to INR 8,100 indicates \n",
    "that Myntra's product catalog predominantly focuses on mid-range and affordable \n",
    "fashion segments."
   ]
  },
  {
   "cell_type": "markdown",
   "id": "d029d816-390d-46d8-8a03-0dd30c1c44b0",
   "metadata": {},
   "source": [
    "4.The highest frequency of prices occurring between INR 400 to INR 1,100 suggests that \n",
    "this price bracket likely represents Myntra's sweet spot, catering to a \n",
    "large consumer base seeking reasonably priced apparel and accessories."
   ]
  },
  {
   "cell_type": "markdown",
   "id": "98ad0d6a-0eb9-4bfb-ba1a-509ef2e8af46",
   "metadata": {},
   "source": [
    "**Distribution of Product Rating**"
   ]
  },
  {
   "cell_type": "code",
   "execution_count": 99,
   "id": "a3cee94b-4efb-464b-87b0-114e4a49cf2f",
   "metadata": {},
   "outputs": [
    {
     "data": {
      "image/png": "[encoded data removed]",
      "text/plain": [
       "<Figure size 1000x500 with 1 Axes>"
      ]
     },
     "metadata": {},
     "output_type": "display_data"
    }
   ],
   "source": [
    "plt.figure(figsize=(10, 5))\n",
    "sns.histplot(df3['rating'], bins=50, kde=True)\n",
    "plt.title('Distribution of Rating')\n",
    "plt.xlabel('Rating')\n",
    "plt.ylabel('Frequency')\n",
    "plt.show()"
   ]
  },
  {
   "cell_type": "code",
   "execution_count": 103,
   "id": "51ca7224-b575-4fbc-ac64-6f5f107d45be",
   "metadata": {},
   "outputs": [
    {
     "data": {
      "text/plain": [
       "789750"
      ]
     },
     "execution_count": 103,
     "metadata": {},
     "output_type": "execute_result"
    }
   ],
   "source": [
    "(df3[df3.rating==0.0]).shape[0]"
   ]
  },
  {
   "cell_type": "markdown",
   "id": "458ded4e-225e-436e-ac5f-61d132f53619",
   "metadata": {},
   "source": [
    "Here the most of rating is given as zero i.e might becustomer not statisfied or missing values or null points significantly for better understanding of\n",
    "products rating let's eliminate the zero rating to find the patterns "
   ]
  },
  {
   "cell_type": "code",
   "execution_count": 107,
   "id": "e10d9a3f-cdf4-46db-a63e-105acc92062c",
   "metadata": {},
   "outputs": [
    {
     "data": {
      "image/png": "[encoded data removed]",
      "text/plain": [
       "<Figure size 1000x500 with 1 Axes>"
      ]
     },
     "metadata": {},
     "output_type": "display_data"
    }
   ],
   "source": [
    "plt.figure(figsize=(10, 5))\n",
    "sns.histplot(df3['rating'][df3['rating']>0], bins=60, kde=True)\n",
    "plt.title('Distribution of Rating')\n",
    "plt.xlabel('Rating')\n",
    "plt.ylabel('Frequency')\n",
    "plt.show()"
   ]
  },
  {
   "cell_type": "code",
   "execution_count": 123,
   "id": "6923fa72-8dd1-43c6-91ef-b90e70fd7d34",
   "metadata": {},
   "outputs": [
    {
     "data": {
      "text/plain": [
       "0    4.3\n",
       "Name: rating, dtype: float64"
      ]
     },
     "execution_count": 123,
     "metadata": {},
     "output_type": "execute_result"
    }
   ],
   "source": [
    "df3['rating'][df3.rating>0].mode()"
   ]
  },
  {
   "cell_type": "code",
   "execution_count": 124,
   "id": "7ef41838-3da2-43ff-b0c0-832337fca9f3",
   "metadata": {},
   "outputs": [
    {
     "data": {
      "text/plain": [
       "4.155779163878238"
      ]
     },
     "execution_count": 124,
     "metadata": {},
     "output_type": "execute_result"
    }
   ],
   "source": [
    "df3['rating'][df3.rating>0].mean()"
   ]
  },
  {
   "cell_type": "markdown",
   "id": "25fd6488-af6a-4cb9-8fff-6370f5f96e19",
   "metadata": {},
   "source": [
    "**Observation**"
   ]
  },
  {
   "cell_type": "markdown",
   "id": "97d775da-e85c-470f-9540-4f226ab2fc92",
   "metadata": {},
   "source": [
    "1.Here the most rating lies between 4 to 4.5 that's pretty good for the company as it show\n",
    "Myntra gets nice and quality products and satisfying the customer needs in terms of quality"
   ]
  },
  {
   "cell_type": "markdown",
   "id": "3eb6fa76-a922-4754-82b5-76a66353f9c8",
   "metadata": {},
   "source": [
    "2.This skewed distribution towards higher ratings suggests positive customer sentiment \n",
    "and potentially highlights top-selling or popular product categories within the Myntra \n",
    "catalog."
   ]
  },
  {
   "cell_type": "markdown",
   "id": "b2806be0-da2a-41d4-9654-bbec6e50c831",
   "metadata": {},
   "source": [
    "**Multivariate Statistical Analysis**"
   ]
  },
  {
   "cell_type": "markdown",
   "id": "54601fa0-a95e-4799-a46e-e62b72753f99",
   "metadata": {},
   "source": [
    "The multivariate analysis is conducted to understand the potential associations and \n",
    "interdependencies among the various product attributes.\n",
    "This analysis aimed to investigate the relationships between variables such as price, MRP,\n",
    "discount amount, percentage discount offered, product ratings,\n",
    "and the number of ratings received.\n",
    "By examining the correlation structures, we can get insights into how these elements \n",
    "interact and influence one another."
   ]
  },
  {
   "cell_type": "code",
   "execution_count": 112,
   "id": "77473fdb-9edf-4df7-8a33-216a376e029f",
   "metadata": {},
   "outputs": [
    {
     "data": {
      "text/plain": [
       "Index(['id', 'name', 'price', 'mrp', 'rating', 'ratingTotal', 'seller',\n",
       "       'total_discount', 'discount_perc'],\n",
       "      dtype='object')"
      ]
     },
     "execution_count": 112,
     "metadata": {},
     "output_type": "execute_result"
    }
   ],
   "source": [
    "df3.columns"
   ]
  },
  {
   "cell_type": "code",
   "execution_count": 114,
   "id": "de9663a8-879d-4756-84a7-84582ea54196",
   "metadata": {},
   "outputs": [
    {
     "data": {
      "text/html": [
       "<div>\n",
       "<style scoped>\n",
       "    .dataframe tbody tr th:only-of-type {\n",
       "        vertical-align: middle;\n",
       "    }\n",
       "\n",
       "    .dataframe tbody tr th {\n",
       "        vertical-align: top;\n",
       "    }\n",
       "\n",
       "    .dataframe thead th {\n",
       "        text-align: right;\n",
       "    }\n",
       "</style>\n",
       "<table border=\"1\" class=\"dataframe\">\n",
       "  <thead>\n",
       "    <tr style=\"text-align: right;\">\n",
       "      <th></th>\n",
       "      <th>price</th>\n",
       "      <th>mrp</th>\n",
       "      <th>rating</th>\n",
       "      <th>ratingTotal</th>\n",
       "      <th>total_discount</th>\n",
       "      <th>discount_perc</th>\n",
       "    </tr>\n",
       "  </thead>\n",
       "  <tbody>\n",
       "    <tr>\n",
       "      <th>price</th>\n",
       "      <td>1.000000</td>\n",
       "      <td>0.918306</td>\n",
       "      <td>-0.101084</td>\n",
       "      <td>-0.014117</td>\n",
       "      <td>0.315249</td>\n",
       "      <td>-0.202976</td>\n",
       "    </tr>\n",
       "    <tr>\n",
       "      <th>mrp</th>\n",
       "      <td>0.918306</td>\n",
       "      <td>1.000000</td>\n",
       "      <td>-0.114370</td>\n",
       "      <td>-0.020313</td>\n",
       "      <td>0.665181</td>\n",
       "      <td>0.055316</td>\n",
       "    </tr>\n",
       "    <tr>\n",
       "      <th>rating</th>\n",
       "      <td>-0.101084</td>\n",
       "      <td>-0.114370</td>\n",
       "      <td>1.000000</td>\n",
       "      <td>0.098691</td>\n",
       "      <td>-0.083514</td>\n",
       "      <td>0.036479</td>\n",
       "    </tr>\n",
       "    <tr>\n",
       "      <th>ratingTotal</th>\n",
       "      <td>-0.014117</td>\n",
       "      <td>-0.020313</td>\n",
       "      <td>0.098691</td>\n",
       "      <td>1.000000</td>\n",
       "      <td>-0.022069</td>\n",
       "      <td>-0.013551</td>\n",
       "    </tr>\n",
       "    <tr>\n",
       "      <th>total_discount</th>\n",
       "      <td>0.315249</td>\n",
       "      <td>0.665181</td>\n",
       "      <td>-0.083514</td>\n",
       "      <td>-0.022069</td>\n",
       "      <td>1.000000</td>\n",
       "      <td>0.515456</td>\n",
       "    </tr>\n",
       "    <tr>\n",
       "      <th>discount_perc</th>\n",
       "      <td>-0.202976</td>\n",
       "      <td>0.055316</td>\n",
       "      <td>0.036479</td>\n",
       "      <td>-0.013551</td>\n",
       "      <td>0.515456</td>\n",
       "      <td>1.000000</td>\n",
       "    </tr>\n",
       "  </tbody>\n",
       "</table>\n",
       "</div>"
      ],
      "text/plain": [
       "                   price       mrp    rating  ratingTotal  total_discount  \\\n",
       "price           1.000000  0.918306 -0.101084    -0.014117        0.315249   \n",
       "mrp             0.918306  1.000000 -0.114370    -0.020313        0.665181   \n",
       "rating         -0.101084 -0.114370  1.000000     0.098691       -0.083514   \n",
       "ratingTotal    -0.014117 -0.020313  0.098691     1.000000       -0.022069   \n",
       "total_discount  0.315249  0.665181 -0.083514    -0.022069        1.000000   \n",
       "discount_perc  -0.202976  0.055316  0.036479    -0.013551        0.515456   \n",
       "\n",
       "                discount_perc  \n",
       "price               -0.202976  \n",
       "mrp                  0.055316  \n",
       "rating               0.036479  \n",
       "ratingTotal         -0.013551  \n",
       "total_discount       0.515456  \n",
       "discount_perc        1.000000  "
      ]
     },
     "execution_count": 114,
     "metadata": {},
     "output_type": "execute_result"
    }
   ],
   "source": [
    "df3[['price', 'mrp', 'rating', 'ratingTotal',\n",
    "       'total_discount', 'discount_perc']].corr()"
   ]
  },
  {
   "cell_type": "code",
   "execution_count": 116,
   "id": "9cc293ec-096d-48db-b019-87609348c62e",
   "metadata": {},
   "outputs": [
    {
     "data": {
      "image/png": "[encoded data removed]",
      "text/plain": [
       "<Figure size 640x480 with 2 Axes>"
      ]
     },
     "metadata": {},
     "output_type": "display_data"
    }
   ],
   "source": [
    "sns.heatmap(df3[['price', 'mrp', 'rating', 'ratingTotal',\n",
    "       'total_discount', 'discount_perc']].corr(),annot=True)\n",
    "plt.title('Correlation Values')\n",
    "plt.show()"
   ]
  },
  {
   "cell_type": "markdown",
   "id": "c5a8cf65-19cc-44de-9282-583bdef8e40e",
   "metadata": {},
   "source": [
    "**Observations**"
   ]
  },
  {
   "cell_type": "markdown",
   "id": "8f4242e7-7e0a-4d3e-a198-8d3e4476b924",
   "metadata": {},
   "source": [
    "1.Ratings have a weak negative correlation with price and MRP, suggesting that more \n",
    "expensive products may not necessarily receive higher ratings."
   ]
  },
  {
   "cell_type": "markdown",
   "id": "8018de6f-5b4c-4fcf-b760-caf3bcdc14e3",
   "metadata": {},
   "source": [
    "2.The total discount amount has a moderate positive correlation with price and MRP,\n",
    "implying that larger discounts are often associated with higher-priced items."
   ]
  },
  {
   "cell_type": "markdown",
   "id": "efdeba12-f3b1-4ed8-bf3b-8da50e0ccaca",
   "metadata": {},
   "source": [
    "3.Percentage discounts exhibit a weak negative correlation with price, indicating that \n",
    "lower-priced items may offer relatively higher percentage discounts."
   ]
  },
  {
   "cell_type": "markdown",
   "id": "c0e92d48-1e3f-47fa-8002-02e37e04c5c4",
   "metadata": {},
   "source": [
    "**More Analysis on Data**"
   ]
  },
  {
   "cell_type": "markdown",
   "id": "3902caf5-c5e5-4918-ab98-6d440d2c71d1",
   "metadata": {},
   "source": [
    "**Most Expensive and Cheapest Product**"
   ]
  },
  {
   "cell_type": "code",
   "execution_count": 130,
   "id": "5fb43171-6e7b-4817-b98e-00e4649e62b3",
   "metadata": {},
   "outputs": [
    {
     "data": {
      "text/html": [
       "<div>\n",
       "<style scoped>\n",
       "    .dataframe tbody tr th:only-of-type {\n",
       "        vertical-align: middle;\n",
       "    }\n",
       "\n",
       "    .dataframe tbody tr th {\n",
       "        vertical-align: top;\n",
       "    }\n",
       "\n",
       "    .dataframe thead th {\n",
       "        text-align: right;\n",
       "    }\n",
       "</style>\n",
       "<table border=\"1\" class=\"dataframe\">\n",
       "  <thead>\n",
       "    <tr style=\"text-align: right;\">\n",
       "      <th></th>\n",
       "      <th>id</th>\n",
       "      <th>name</th>\n",
       "      <th>price</th>\n",
       "      <th>mrp</th>\n",
       "      <th>rating</th>\n",
       "      <th>ratingTotal</th>\n",
       "      <th>seller</th>\n",
       "      <th>total_discount</th>\n",
       "      <th>discount_perc</th>\n",
       "    </tr>\n",
       "  </thead>\n",
       "  <tbody>\n",
       "    <tr>\n",
       "      <th>447028</th>\n",
       "      <td>447029</td>\n",
       "      <td>Bracelet Style Analogue Watch</td>\n",
       "      <td>257500.0</td>\n",
       "      <td>257500.0</td>\n",
       "      <td>0.0</td>\n",
       "      <td>0</td>\n",
       "      <td>Versace</td>\n",
       "      <td>0</td>\n",
       "      <td>0</td>\n",
       "    </tr>\n",
       "    <tr>\n",
       "      <th>26184</th>\n",
       "      <td>26185</td>\n",
       "      <td>Bracelet Style Analogue Watch</td>\n",
       "      <td>257500.0</td>\n",
       "      <td>257500.0</td>\n",
       "      <td>0.0</td>\n",
       "      <td>0</td>\n",
       "      <td>Versace</td>\n",
       "      <td>0</td>\n",
       "      <td>0</td>\n",
       "    </tr>\n",
       "    <tr>\n",
       "      <th>345950</th>\n",
       "      <td>345951</td>\n",
       "      <td>Bracelet Style Analogue Watch</td>\n",
       "      <td>257500.0</td>\n",
       "      <td>257500.0</td>\n",
       "      <td>0.0</td>\n",
       "      <td>0</td>\n",
       "      <td>Versace</td>\n",
       "      <td>0</td>\n",
       "      <td>0</td>\n",
       "    </tr>\n",
       "    <tr>\n",
       "      <th>447791</th>\n",
       "      <td>447792</td>\n",
       "      <td>Men Stainless Steel Watch</td>\n",
       "      <td>146300.0</td>\n",
       "      <td>146300.0</td>\n",
       "      <td>0.0</td>\n",
       "      <td>0</td>\n",
       "      <td>Versace</td>\n",
       "      <td>0</td>\n",
       "      <td>0</td>\n",
       "    </tr>\n",
       "    <tr>\n",
       "      <th>447801</th>\n",
       "      <td>447802</td>\n",
       "      <td>Men Stainless Steel Watch</td>\n",
       "      <td>140500.0</td>\n",
       "      <td>140500.0</td>\n",
       "      <td>0.0</td>\n",
       "      <td>0</td>\n",
       "      <td>Versace</td>\n",
       "      <td>0</td>\n",
       "      <td>0</td>\n",
       "    </tr>\n",
       "  </tbody>\n",
       "</table>\n",
       "</div>"
      ],
      "text/plain": [
       "            id                           name     price       mrp  rating  \\\n",
       "447028  447029  Bracelet Style Analogue Watch  257500.0  257500.0     0.0   \n",
       "26184    26185  Bracelet Style Analogue Watch  257500.0  257500.0     0.0   \n",
       "345950  345951  Bracelet Style Analogue Watch  257500.0  257500.0     0.0   \n",
       "447791  447792      Men Stainless Steel Watch  146300.0  146300.0     0.0   \n",
       "447801  447802      Men Stainless Steel Watch  140500.0  140500.0     0.0   \n",
       "\n",
       "        ratingTotal   seller  total_discount  discount_perc  \n",
       "447028            0  Versace               0              0  \n",
       "26184             0  Versace               0              0  \n",
       "345950            0  Versace               0              0  \n",
       "447791            0  Versace               0              0  \n",
       "447801            0  Versace               0              0  "
      ]
     },
     "execution_count": 130,
     "metadata": {},
     "output_type": "execute_result"
    }
   ],
   "source": [
    "expensive_product=df3.sort_values(by='price',ascending=False).head()\n",
    "expensive_product"
   ]
  },
  {
   "cell_type": "code",
   "execution_count": 137,
   "id": "a813bce4-3b2a-4571-b81d-fbf30ccc3a41",
   "metadata": {},
   "outputs": [
    {
     "data": {
      "text/plain": [
       "Text(0, 0.5, 'Prices')"
      ]
     },
     "execution_count": 137,
     "metadata": {},
     "output_type": "execute_result"
    },
    {
     "data": {
      "image/png": "[encoded data removed]",
      "text/plain": [
       "<Figure size 640x480 with 1 Axes>"
      ]
     },
     "metadata": {},
     "output_type": "display_data"
    }
   ],
   "source": [
    "plt.bar(expensive_product.name,expensive_product.price)\n",
    "plt.title('Expensive Products')\n",
    "plt.xlabel('Product_Name')\n",
    "plt.ylabel('Prices')"
   ]
  },
  {
   "cell_type": "code",
   "execution_count": 140,
   "id": "625df407-5d1d-4be2-b18c-4388a8bbf8ad",
   "metadata": {},
   "outputs": [
    {
     "data": {
      "text/html": [
       "<div>\n",
       "<style scoped>\n",
       "    .dataframe tbody tr th:only-of-type {\n",
       "        vertical-align: middle;\n",
       "    }\n",
       "\n",
       "    .dataframe tbody tr th {\n",
       "        vertical-align: top;\n",
       "    }\n",
       "\n",
       "    .dataframe thead th {\n",
       "        text-align: right;\n",
       "    }\n",
       "</style>\n",
       "<table border=\"1\" class=\"dataframe\">\n",
       "  <thead>\n",
       "    <tr style=\"text-align: right;\">\n",
       "      <th></th>\n",
       "      <th>id</th>\n",
       "      <th>name</th>\n",
       "      <th>price</th>\n",
       "      <th>mrp</th>\n",
       "      <th>rating</th>\n",
       "      <th>ratingTotal</th>\n",
       "      <th>seller</th>\n",
       "      <th>total_discount</th>\n",
       "      <th>discount_perc</th>\n",
       "    </tr>\n",
       "  </thead>\n",
       "  <tbody>\n",
       "    <tr>\n",
       "      <th>66656</th>\n",
       "      <td>66657</td>\n",
       "      <td>Hair Colour - Natural Black 1</td>\n",
       "      <td>25.0</td>\n",
       "      <td>25.0</td>\n",
       "      <td>4.3</td>\n",
       "      <td>139</td>\n",
       "      <td>Streax</td>\n",
       "      <td>0</td>\n",
       "      <td>0</td>\n",
       "    </tr>\n",
       "    <tr>\n",
       "      <th>222626</th>\n",
       "      <td>222627</td>\n",
       "      <td>Hair Colour - Burgundy 3.16</td>\n",
       "      <td>25.0</td>\n",
       "      <td>25.0</td>\n",
       "      <td>4.2</td>\n",
       "      <td>120</td>\n",
       "      <td>Streax</td>\n",
       "      <td>0</td>\n",
       "      <td>0</td>\n",
       "    </tr>\n",
       "    <tr>\n",
       "      <th>355788</th>\n",
       "      <td>355789</td>\n",
       "      <td>Hair Colour - 4 Natural Brown</td>\n",
       "      <td>25.0</td>\n",
       "      <td>25.0</td>\n",
       "      <td>3.9</td>\n",
       "      <td>14</td>\n",
       "      <td>Streax</td>\n",
       "      <td>0</td>\n",
       "      <td>0</td>\n",
       "    </tr>\n",
       "    <tr>\n",
       "      <th>82496</th>\n",
       "      <td>82497</td>\n",
       "      <td>Hair Colour - Dark Brown 3</td>\n",
       "      <td>25.0</td>\n",
       "      <td>25.0</td>\n",
       "      <td>4.3</td>\n",
       "      <td>65</td>\n",
       "      <td>Streax</td>\n",
       "      <td>0</td>\n",
       "      <td>0</td>\n",
       "    </tr>\n",
       "    <tr>\n",
       "      <th>83918</th>\n",
       "      <td>83919</td>\n",
       "      <td>Hair Colour - Natural Brown 4</td>\n",
       "      <td>25.0</td>\n",
       "      <td>25.0</td>\n",
       "      <td>4.2</td>\n",
       "      <td>79</td>\n",
       "      <td>Streax</td>\n",
       "      <td>0</td>\n",
       "      <td>0</td>\n",
       "    </tr>\n",
       "  </tbody>\n",
       "</table>\n",
       "</div>"
      ],
      "text/plain": [
       "            id                           name  price   mrp  rating  \\\n",
       "66656    66657  Hair Colour - Natural Black 1   25.0  25.0     4.3   \n",
       "222626  222627    Hair Colour - Burgundy 3.16   25.0  25.0     4.2   \n",
       "355788  355789  Hair Colour - 4 Natural Brown   25.0  25.0     3.9   \n",
       "82496    82497     Hair Colour - Dark Brown 3   25.0  25.0     4.3   \n",
       "83918    83919  Hair Colour - Natural Brown 4   25.0  25.0     4.2   \n",
       "\n",
       "        ratingTotal  seller  total_discount  discount_perc  \n",
       "66656           139  Streax               0              0  \n",
       "222626          120  Streax               0              0  \n",
       "355788           14  Streax               0              0  \n",
       "82496            65  Streax               0              0  \n",
       "83918            79  Streax               0              0  "
      ]
     },
     "execution_count": 140,
     "metadata": {},
     "output_type": "execute_result"
    }
   ],
   "source": [
    "cheap_product=df3.sort_values(by='price').head()\n",
    "cheap_product"
   ]
  },
  {
   "cell_type": "code",
   "execution_count": 157,
   "id": "997c54e4-8940-45cb-80e0-23af65a1ed15",
   "metadata": {},
   "outputs": [
    {
     "data": {
      "image/png": "[encoded data removed]",
      "text/plain": [
       "<Figure size 640x480 with 1 Axes>"
      ]
     },
     "metadata": {},
     "output_type": "display_data"
    }
   ],
   "source": [
    "plt.barh(cheap_product.name,cheap_product.price)\n",
    "plt.title('Cheapest Products')\n",
    "plt.xlabel('Product_Name')\n",
    "plt.ylabel('Prices')\n",
    "plt.show()"
   ]
  },
  {
   "cell_type": "markdown",
   "id": "2c351fbc-66d6-4a9b-b5cd-e214b3a9c69f",
   "metadata": {},
   "source": [
    "**Top Listed Products**"
   ]
  },
  {
   "cell_type": "code",
   "execution_count": 152,
   "id": "c9828ff1-435d-4f9d-8afd-8930af09fa37",
   "metadata": {},
   "outputs": [
    {
     "data": {
      "text/plain": [
       "name\n",
       "Men Polo Collar T-shirt           5644\n",
       "Gold-Plated Jewellery Set         5485\n",
       "Men Typography Printed T-shirt    4326\n",
       "Printed Round Neck T-shirt        4055\n",
       "Men Slim Fit Jeans                4046\n",
       "Men Printed T-shirt               3874\n",
       "Men Pure Cotton T-shirt           3763\n",
       "Women Analogue Watch              3649\n",
       "Women Open Toe Flats              2940\n",
       "Women Night suit                  2923\n",
       "Name: count, dtype: int64"
      ]
     },
     "execution_count": 152,
     "metadata": {},
     "output_type": "execute_result"
    }
   ],
   "source": [
    "df3.name.value_counts().head(10)"
   ]
  },
  {
   "cell_type": "code",
   "execution_count": 155,
   "id": "091fad0d-1cc3-40f4-b62a-0a55525c2fe8",
   "metadata": {},
   "outputs": [
    {
     "data": {
      "image/png": "[encoded data removed]",
      "text/plain": [
       "<Figure size 1200x600 with 1 Axes>"
      ]
     },
     "metadata": {},
     "output_type": "display_data"
    }
   ],
   "source": [
    "plt.figure(figsize=(12, 6))\n",
    "sns.barplot(x=df3.name.value_counts().head(10).values, y=df3.name.value_counts().head(10).index,\n",
    "           hue=df3.name.value_counts().head(10).index)\n",
    "plt.title('Top Listed Products')\n",
    "plt.xlabel('Number of Listings')\n",
    "plt.ylabel('Product Name')\n",
    "plt.show()"
   ]
  },
  {
   "cell_type": "markdown",
   "id": "d359e213-3e6c-4605-bd4d-0446165612fa",
   "metadata": {},
   "source": [
    "**Top Rated Products**"
   ]
  },
  {
   "cell_type": "code",
   "execution_count": 250,
   "id": "03c3ce38-c4fe-4b41-9708-864c7a8b9465",
   "metadata": {},
   "outputs": [
    {
     "data": {
      "text/html": [
       "<div>\n",
       "<style scoped>\n",
       "    .dataframe tbody tr th:only-of-type {\n",
       "        vertical-align: middle;\n",
       "    }\n",
       "\n",
       "    .dataframe tbody tr th {\n",
       "        vertical-align: top;\n",
       "    }\n",
       "\n",
       "    .dataframe thead th {\n",
       "        text-align: right;\n",
       "    }\n",
       "</style>\n",
       "<table border=\"1\" class=\"dataframe\">\n",
       "  <thead>\n",
       "    <tr style=\"text-align: right;\">\n",
       "      <th></th>\n",
       "      <th>id</th>\n",
       "      <th>name</th>\n",
       "      <th>price</th>\n",
       "      <th>mrp</th>\n",
       "      <th>rating</th>\n",
       "      <th>ratingTotal</th>\n",
       "      <th>seller</th>\n",
       "      <th>total_discount</th>\n",
       "      <th>discount_perc</th>\n",
       "    </tr>\n",
       "  </thead>\n",
       "  <tbody>\n",
       "    <tr>\n",
       "      <th>180080</th>\n",
       "      <td>180081</td>\n",
       "      <td>Brightening Foaming Face Wash</td>\n",
       "      <td>327.0</td>\n",
       "      <td>399.0</td>\n",
       "      <td>5.0</td>\n",
       "      <td>264</td>\n",
       "      <td>Organic Harvest</td>\n",
       "      <td>72</td>\n",
       "      <td>18</td>\n",
       "    </tr>\n",
       "    <tr>\n",
       "      <th>245742</th>\n",
       "      <td>245743</td>\n",
       "      <td>Brightening Foaming Face Wash</td>\n",
       "      <td>327.0</td>\n",
       "      <td>399.0</td>\n",
       "      <td>5.0</td>\n",
       "      <td>264</td>\n",
       "      <td>Organic Harvest</td>\n",
       "      <td>72</td>\n",
       "      <td>18</td>\n",
       "    </tr>\n",
       "    <tr>\n",
       "      <th>376871</th>\n",
       "      <td>376872</td>\n",
       "      <td>Brightening Foaming Face Wash</td>\n",
       "      <td>327.0</td>\n",
       "      <td>399.0</td>\n",
       "      <td>5.0</td>\n",
       "      <td>264</td>\n",
       "      <td>Organic Harvest</td>\n",
       "      <td>72</td>\n",
       "      <td>18</td>\n",
       "    </tr>\n",
       "    <tr>\n",
       "      <th>379391</th>\n",
       "      <td>379392</td>\n",
       "      <td>Brightening Foaming Face Wash</td>\n",
       "      <td>327.0</td>\n",
       "      <td>399.0</td>\n",
       "      <td>5.0</td>\n",
       "      <td>264</td>\n",
       "      <td>Organic Harvest</td>\n",
       "      <td>72</td>\n",
       "      <td>18</td>\n",
       "    </tr>\n",
       "    <tr>\n",
       "      <th>126865</th>\n",
       "      <td>126866</td>\n",
       "      <td>Multigreens Face Cleanser</td>\n",
       "      <td>285.0</td>\n",
       "      <td>475.0</td>\n",
       "      <td>5.0</td>\n",
       "      <td>174</td>\n",
       "      <td>Happier</td>\n",
       "      <td>190</td>\n",
       "      <td>40</td>\n",
       "    </tr>\n",
       "    <tr>\n",
       "      <th>128126</th>\n",
       "      <td>128127</td>\n",
       "      <td>Multigreens Face Cleanser</td>\n",
       "      <td>285.0</td>\n",
       "      <td>475.0</td>\n",
       "      <td>5.0</td>\n",
       "      <td>174</td>\n",
       "      <td>Happier</td>\n",
       "      <td>190</td>\n",
       "      <td>40</td>\n",
       "    </tr>\n",
       "    <tr>\n",
       "      <th>195941</th>\n",
       "      <td>195942</td>\n",
       "      <td>Multigreens Face Cleanser</td>\n",
       "      <td>285.0</td>\n",
       "      <td>475.0</td>\n",
       "      <td>5.0</td>\n",
       "      <td>174</td>\n",
       "      <td>Happier</td>\n",
       "      <td>190</td>\n",
       "      <td>40</td>\n",
       "    </tr>\n",
       "    <tr>\n",
       "      <th>131946</th>\n",
       "      <td>131947</td>\n",
       "      <td>Soulfood Body Scrub 175 g</td>\n",
       "      <td>337.0</td>\n",
       "      <td>675.0</td>\n",
       "      <td>5.0</td>\n",
       "      <td>89</td>\n",
       "      <td>Happier</td>\n",
       "      <td>338</td>\n",
       "      <td>50</td>\n",
       "    </tr>\n",
       "    <tr>\n",
       "      <th>199389</th>\n",
       "      <td>199390</td>\n",
       "      <td>Soulfood Body Scrub 175 g</td>\n",
       "      <td>337.0</td>\n",
       "      <td>675.0</td>\n",
       "      <td>5.0</td>\n",
       "      <td>89</td>\n",
       "      <td>Happier</td>\n",
       "      <td>338</td>\n",
       "      <td>50</td>\n",
       "    </tr>\n",
       "    <tr>\n",
       "      <th>443599</th>\n",
       "      <td>443600</td>\n",
       "      <td>Soulfood Body Scrub 175 g</td>\n",
       "      <td>337.0</td>\n",
       "      <td>675.0</td>\n",
       "      <td>5.0</td>\n",
       "      <td>89</td>\n",
       "      <td>Happier</td>\n",
       "      <td>338</td>\n",
       "      <td>50</td>\n",
       "    </tr>\n",
       "  </tbody>\n",
       "</table>\n",
       "</div>"
      ],
      "text/plain": [
       "            id                           name  price    mrp  rating  \\\n",
       "180080  180081  Brightening Foaming Face Wash  327.0  399.0     5.0   \n",
       "245742  245743  Brightening Foaming Face Wash  327.0  399.0     5.0   \n",
       "376871  376872  Brightening Foaming Face Wash  327.0  399.0     5.0   \n",
       "379391  379392  Brightening Foaming Face Wash  327.0  399.0     5.0   \n",
       "126865  126866      Multigreens Face Cleanser  285.0  475.0     5.0   \n",
       "128126  128127      Multigreens Face Cleanser  285.0  475.0     5.0   \n",
       "195941  195942      Multigreens Face Cleanser  285.0  475.0     5.0   \n",
       "131946  131947      Soulfood Body Scrub 175 g  337.0  675.0     5.0   \n",
       "199389  199390      Soulfood Body Scrub 175 g  337.0  675.0     5.0   \n",
       "443599  443600      Soulfood Body Scrub 175 g  337.0  675.0     5.0   \n",
       "\n",
       "        ratingTotal           seller  total_discount  discount_perc  \n",
       "180080          264  Organic Harvest              72             18  \n",
       "245742          264  Organic Harvest              72             18  \n",
       "376871          264  Organic Harvest              72             18  \n",
       "379391          264  Organic Harvest              72             18  \n",
       "126865          174          Happier             190             40  \n",
       "128126          174          Happier             190             40  \n",
       "195941          174          Happier             190             40  \n",
       "131946           89          Happier             338             50  \n",
       "199389           89          Happier             338             50  \n",
       "443599           89          Happier             338             50  "
      ]
     },
     "execution_count": 250,
     "metadata": {},
     "output_type": "execute_result"
    }
   ],
   "source": [
    "top_rated_products = df3.sort_values(by=['rating', 'ratingTotal'], ascending=[False, False]).head(10)\n",
    "top_rated_products"
   ]
  },
  {
   "cell_type": "code",
   "execution_count": 246,
   "id": "081edd7d-326c-4df1-bfdc-acf05951ff72",
   "metadata": {},
   "outputs": [
    {
     "data": {
      "image/png": "[encoded data removed]",
      "text/plain": [
       "<Figure size 1200x600 with 1 Axes>"
      ]
     },
     "metadata": {},
     "output_type": "display_data"
    }
   ],
   "source": [
    "plt.figure(figsize=(12, 6))\n",
    "sns.barplot(x='rating', y='name', data=top_rated_products,hue='name')\n",
    "plt.title('Top Rated Products')\n",
    "plt.xlabel('Rating')\n",
    "plt.ylabel('Product Name')\n",
    "plt.show()"
   ]
  }
 ],
 "metadata": {
  "kernelspec": {
   "display_name": "Python 3 (ipykernel)",
   "language": "python",
   "name": "python3"
  },
  "language_info": {
   "codemirror_mode": {
    "name": "ipython",
    "version": 3
   },
   "file_extension": ".py",
   "mimetype": "text/x-python",
   "name": "python",
   "nbconvert_exporter": "python",
   "pygments_lexer": "ipython3",
   "version": "3.12.2"
  }
 },
 "nbformat": 4,
 "nbformat_minor": 5
}
